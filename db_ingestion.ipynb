{
 "cells": [
  {
   "cell_type": "code",
   "execution_count": 0,
   "metadata": {
    "application/vnd.databricks.v1+cell": {
     "cellMetadata": {
      "byteLimit": 2048000,
      "rowLimit": 10000
     },
     "inputWidgets": {},
     "nuid": "aaee720b-c585-42f0-9ed4-6d723400dabe",
     "showTitle": false,
     "tableResultSettingsMap": {},
     "title": ""
    }
   },
   "outputs": [],
   "source": [
    "# --------------------------------\n",
    "# Import Libraries\n",
    "# --------------------------------\n",
    "from pyspark.sql import SparkSession, Row\n",
    "from datetime import datetime\n",
    "import uuid\n",
    "import traceback\n",
    "\n",
    "# --------------------------------\n",
    "# Initialize Spark Session\n",
    "# --------------------------------\n",
    "spark = SparkSession.builder.appName(\"Spark DataFrames\").getOrCreate()\n",
    "\n",
    "# --------------------------------\n",
    "# Job ID for this run\n",
    "# --------------------------------\n",
    "job_id = str(uuid.uuid4())\n",
    "\n",
    "# --------------------------------\n",
    "# Logging function\n",
    "# --------------------------------\n",
    "def log_step(step_name, status=\"INFO\", message=\"\"):\n",
    "    log_df = spark.createDataFrame([\n",
    "        Row(\n",
    "            job_id=job_id,\n",
    "            timestamp=datetime.utcnow().isoformat(),\n",
    "            step=step_name,\n",
    "            status=status,\n",
    "            message=message\n",
    "        )\n",
    "    ])\n",
    "    (\n",
    "        log_df.write\n",
    "        .format(\"delta\")\n",
    "        .mode(\"append\")\n",
    "        .saveAsTable(\"project_logs.bronze_schema.log\")   # log table\n",
    "    )\n",
    "\n",
    "# --------------------------------\n",
    "# ETL Process with Logging\n",
    "# --------------------------------\n",
    "try:\n",
    "    log_step(\"START\", \"INFO\", \"Starting Bronze ingestion from S3\")\n",
    "\n",
    "    # Read Delta from S3\n",
    "    df = spark.read.format(\"delta\").load(\"s3://dbsawsproject/household/\")\n",
    "    row_count = df.count()\n",
    "    log_step(\"LOAD_S3\", \"INFO\", f\"Loaded {row_count} records from S3\")\n",
    "\n",
    "    # Write to Bronze table\n",
    "    df.write.format(\"delta\").mode(\"overwrite\").saveAsTable(\"aws_dataingestion.bronze_aws.household\")\n",
    "    log_step(\"SAVE_BRONZE\", \"SUCCESS\", \"Saved data to Bronze table aws_dataingestion.bronze_aws.household\")\n",
    "\n",
    "    # Show sample records\n",
    "    df.show(10)\n",
    "    log_step(\"SHOW_DATA\", \"INFO\", \"Displayed first 10 records\")\n",
    "\n",
    "    log_step(\"END\", \"SUCCESS\", \"Bronze ingestion completed successfully ✅\")\n",
    "\n",
    "except Exception as e:\n",
    "    log_step(\"ERROR\", \"FAIL\", traceback.format_exc())\n",
    "    raise\n"
   ]
  }
 ],
 "metadata": {
  "application/vnd.databricks.v1+notebook": {
   "computePreferences": null,
   "dashboards": [],
   "environmentMetadata": {
    "base_environment": "",
    "environment_version": "3"
   },
   "inputWidgetPreferences": null,
   "language": "python",
   "notebookMetadata": {
    "pythonIndentUnit": 4
   },
   "notebookName": "db_ingestion",
   "widgets": {}
  },
  "language_info": {
   "name": "python"
  }
 },
 "nbformat": 4,
 "nbformat_minor": 0
}
